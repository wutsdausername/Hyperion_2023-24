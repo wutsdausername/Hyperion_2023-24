{
 "cells": [
  {
   "cell_type": "markdown",
   "metadata": {},
   "source": [
    "# Hyperion Frequencies Dataset"
   ]
  },
  {
   "cell_type": "markdown",
   "metadata": {},
   "source": [
    "Generating datasets for $v_c$, $v_m$ and $F_{v,max}$ in Adiabatic phase"
   ]
  },
  {
   "cell_type": "code",
   "execution_count": 1,
   "metadata": {},
   "outputs": [],
   "source": [
    "import random\n",
    "import math\n",
    "import numpy as np\n",
    "from sklearn.model_selection import train_test_split\n",
    "from sklearn.linear_model import LinearRegression\n",
    "from sklearn.metrics import mean_squared_error, r2_score\n",
    "import matplotlib.pyplot as plt\n",
    "from IPython.display import display, Latex\n",
    "\n",
    "def generate_random_epsilon_B():\n",
    "    return random.uniform(0.1, 10)\n",
    "def generate_random_E_52():\n",
    "    return random.uniform(1, 100)\n",
    "def generate_random_n_1():\n",
    "    return random.uniform(0.8, 1.2)\n",
    "def generate_random_t_d():\n",
    "    return 10**random.uniform(0, 2)\n",
    "def generate_random_epsilon_E():\n",
    "    return random.uniform(0.1,10)\n",
    "def generate_random_D_28():\n",
    "    return random.uniform(1,100)\n",
    "\n",
    "epsilon_B_list = [generate_random_epsilon_B() for _ in range(100000)]\n",
    "E_52_list = [generate_random_E_52() for _ in range(100000)]\n",
    "n_1_list = [generate_random_n_1() for _ in range(100000)]\n",
    "t_d_list = [generate_random_t_d() for _ in range(100000)]\n",
    "epsilon_E_list = [generate_random_epsilon_E() for _ in range(100000)]\n",
    "D_28_list = [generate_random_D_28() for _ in range(100000)]\n",
    "v_c_list = []\n",
    "v_m_list = []\n",
    "Fv_max_list = []\n",
    "a = (2.7) * (10**12)\n",
    "b = (5.7) * (10**14)\n",
    "c = (1.1) * (10**5)\n",
    "for i in range(10000):\n",
    "    #equation of v_c\n",
    "    val = (a) * ((epsilon_B_list[i])**(-1.5)) * ((E_52_list[i]*t_d_list[i])**(-0.5)) / n_1_list[i]\n",
    "    v_c_list.append(val)\n",
    "    #equation of v_m\n",
    "    val = (b) * ((epsilon_B_list[i])**(0.5)) * ((epsilon_E_list[i])**2) * ((E_52_list[i])**(0.5)) * ((t_d_list[i])**(-1.5))\n",
    "    v_m_list.append(val)\n",
    "    #equation of F_(v,max)\n",
    "    val = (c) * ((epsilon_B_list[i])**(0.5)) * (E_52_list[i]) * ((n_1_list[i])**(0.5)) * ((D_28_list[i])**(-2))\n",
    "    Fv_max_list.append(val)\n",
    "\n",
    "noise_factor_v_c = 0.0001\n",
    "noise_factor_v_m = 0.001\n",
    "noise_factor_Fv_max = 0.0001\n",
    "#adding noise\n",
    "for i in range(4000):\n",
    "    v_c_list[round(random.uniform(0,10000-1))]+= np.random.normal(0, noise_factor_v_c)\n",
    "    v_m_list[round(random.uniform(0,10000-1))]+=np.random.normal(0, noise_factor_v_m)\n",
    "    Fv_max_list[round(random.uniform(0,10000-1))]+=np.random.normal(0, noise_factor_Fv_max)\n"
   ]
  },
  {
   "cell_type": "markdown",
   "metadata": {},
   "source": [
    "Create CSV files for the above datasets (adiabatic)"
   ]
  },
  {
   "cell_type": "code",
   "execution_count": 2,
   "metadata": {},
   "outputs": [],
   "source": [
    "import csv\n",
    "\n",
    "with open('adiabatic_dataset.csv', 'w', newline='') as file:\n",
    "    writer = csv.writer(file)\n",
    "    list1 = [['v_c','v_m','F_vmax','epsilon_B','epsilon_E','E_52','t_d','n_1','D_28']]\n",
    "    for i in range(10000):\n",
    "        temp_list=[]\n",
    "        temp_list.append(v_c_list[i])\n",
    "        temp_list.append(v_m_list[i])\n",
    "        temp_list.append(Fv_max_list[i])\n",
    "        temp_list.append(epsilon_B_list[i])\n",
    "        temp_list.append(epsilon_E_list[i])\n",
    "        temp_list.append(E_52_list[i])\n",
    "        temp_list.append(t_d_list[i])\n",
    "        temp_list.append(n_1_list[i])\n",
    "        temp_list.append(D_28_list[i])\n",
    "        list1.append(temp_list)\n",
    "    writer.writerows(list1)\n"
   ]
  },
  {
   "cell_type": "markdown",
   "metadata": {},
   "source": [
    "Running multiple linear regression to get relation between parameters"
   ]
  },
  {
   "cell_type": "markdown",
   "metadata": {},
   "source": [
    "Step 1 : Create logarithmic variants of the lists"
   ]
  },
  {
   "cell_type": "code",
   "execution_count": 3,
   "metadata": {},
   "outputs": [],
   "source": [
    "log_epsilon_B_list = []\n",
    "log_E_52_list = []\n",
    "log_n_1_list = []\n",
    "log_t_d_list = []\n",
    "log_epsilon_E_list = []\n",
    "log_D_28_list = []\n",
    "log_v_c_list = []\n",
    "log_v_m_list = []\n",
    "log_Fv_max_list = []\n",
    "for i in range(10000):\n",
    "    log_epsilon_B_list.append(math.log(epsilon_B_list[i],10))\n",
    "    log_E_52_list.append(math.log(E_52_list[i],10))\n",
    "    log_n_1_list.append(math.log(n_1_list[i],10))\n",
    "    log_t_d_list.append(math.log(t_d_list[i],10))\n",
    "    log_D_28_list.append(math.log(D_28_list[i],10))\n",
    "    log_epsilon_E_list.append(math.log(epsilon_E_list[i],10))\n",
    "    log_v_c_list.append(math.log(abs(v_c_list[i]),10))\n",
    "    log_v_m_list.append(math.log(abs(v_m_list[i]),10))\n",
    "    log_Fv_max_list.append(math.log(Fv_max_list[i],10))\n",
    "\n"
   ]
  },
  {
   "cell_type": "markdown",
   "metadata": {},
   "source": [
    "Step 2 : Run multiple linear regression on the logarithmic lists obtained above"
   ]
  },
  {
   "cell_type": "markdown",
   "metadata": {},
   "source": [
    "Step 2.1 : For $v_c$"
   ]
  },
  {
   "cell_type": "code",
   "execution_count": 4,
   "metadata": {},
   "outputs": [
    {
     "name": "stdout",
     "output_type": "stream",
     "text": [
      "Coefficients: [-0.5 -1.5 -1.  -0.5]\n",
      "Intercept: 12.431363764158977\n",
      "Error:  8.409099477474942e-29\n"
     ]
    },
    {
     "data": {
      "text/latex": [
       "${v_c} = 2699999999999.937 * E_{52}^{-0.5} * \\epsilon_B^{-1.5} * n_1^{-1.0} * t_d^{-0.5} $"
      ],
      "text/plain": [
       "<IPython.core.display.Latex object>"
      ]
     },
     "metadata": {},
     "output_type": "display_data"
    }
   ],
   "source": [
    "\n",
    "\n",
    "# Combine the input features into a single array\n",
    "X1 = np.column_stack((log_E_52_list, log_epsilon_B_list, log_n_1_list, log_t_d_list))\n",
    "\n",
    "# Convert log_v_c_list to a NumPy array\n",
    "y1 = np.array(log_v_c_list)\n",
    "\n",
    "# Split the data into training and testing sets\n",
    "X_train1, X_test1, y_train1, y_test1 = train_test_split(X1, y1, test_size=0.2, random_state=42)\n",
    "\n",
    "# Create a linear regression model\n",
    "model1 = LinearRegression()\n",
    "\n",
    "# Train the model on the training data\n",
    "model1.fit(X_train1, y_train1)\n",
    "\n",
    "# Make predictions on the testing data\n",
    "y_pred1 = model1.predict(X_test1)\n",
    "\n",
    "# Print the coefficients and intercept\n",
    "mse = mean_squared_error(y_test1, y_pred1)\n",
    "print('Coefficients:', model1.coef_)\n",
    "print('Intercept:', model1.intercept_)\n",
    "print('Error: ',mse)\n",
    "display(Latex(f'${{v_c}} = {10**model1.intercept_} * E_{{52}}^{({round(model1.coef_[0],2)})} * \\epsilon_B^{({round(model1.coef_[1],2)})} * n_1^{({round(model1.coef_[2],2)})} * t_d^{({round(model1.coef_[3],2)})} $'))"
   ]
  },
  {
   "cell_type": "markdown",
   "metadata": {},
   "source": [
    "Step 2.2 : For $v_m$"
   ]
  },
  {
   "cell_type": "code",
   "execution_count": 5,
   "metadata": {},
   "outputs": [
    {
     "name": "stdout",
     "output_type": "stream",
     "text": [
      "Coefficients: [ 0.5  0.5  2.  -1.5]\n",
      "Intercept: 14.755874855672484\n"
     ]
    },
    {
     "data": {
      "text/latex": [
       "${v_m} = 569999999999990.8 * E_{52}^{-0.5} * \\epsilon_B^{0.5} * \\epsilon_e^{2.0} * t_d^{-1.5} $"
      ],
      "text/plain": [
       "<IPython.core.display.Latex object>"
      ]
     },
     "metadata": {},
     "output_type": "display_data"
    }
   ],
   "source": [
    "# Combine the input features into a single array\n",
    "X2 = np.column_stack((log_E_52_list, log_epsilon_B_list, log_epsilon_E_list, log_t_d_list))\n",
    "\n",
    "# Convert log_v_c_list to a NumPy array\n",
    "y2 = np.array(log_v_m_list)\n",
    "\n",
    "# Split the data into training and testing sets\n",
    "X_train2, X_test2, y_train2, y_test2 = train_test_split(X2, y2, test_size=0.2, random_state=42)\n",
    "\n",
    "# Create a linear regression model\n",
    "model2 = LinearRegression()\n",
    "\n",
    "# Train the model on the training data\n",
    "model2.fit(X_train2, y_train2)\n",
    "\n",
    "# Make predictions on the testing data\n",
    "y_pred2 = model2.predict(X_test2)\n",
    "\n",
    "# Print the coefficients and intercept\n",
    "print('Coefficients:', model2.coef_)\n",
    "print('Intercept:', model2.intercept_)\n",
    "\n",
    "display(Latex(f'${{v_m}} = {(10**model2.intercept_)} * E_{{52}}^{({round(model1.coef_[0],2)})} * \\epsilon_B^{({round(model2.coef_[1],2)})} * \\epsilon_e^{({round(model2.coef_[2],2)})} * t_d^{({round(model2.coef_[3],2)})} $'))"
   ]
  },
  {
   "cell_type": "markdown",
   "metadata": {},
   "source": [
    "Step 2.3 : For $F_{v,max}$"
   ]
  },
  {
   "cell_type": "code",
   "execution_count": 6,
   "metadata": {},
   "outputs": [
    {
     "name": "stdout",
     "output_type": "stream",
     "text": [
      "Coefficients: [ 1.          0.5         0.50000001 -2.        ]\n",
      "Intercept: 5.0413926822408035\n"
     ]
    },
    {
     "data": {
      "text/latex": [
       "${v_c} = 109999.99926106275 * E_{52}^{1.0} * \\epsilon_B^{0.5} * n_1^{0.5} * D_{28}^{-2.0} $"
      ],
      "text/plain": [
       "<IPython.core.display.Latex object>"
      ]
     },
     "metadata": {},
     "output_type": "display_data"
    }
   ],
   "source": [
    "# Combine the input features into a single array\n",
    "X3 = np.column_stack((log_E_52_list, log_epsilon_B_list, log_n_1_list, log_D_28_list))\n",
    "\n",
    "# Convert log_v_c_list to a NumPy array\n",
    "y3 = np.array(log_Fv_max_list)\n",
    "\n",
    "# Split the data into training and testing sets\n",
    "X_train3, X_test3, y_train3, y_test3 = train_test_split(X3, y3, test_size=0.2, random_state=42)\n",
    "\n",
    "# Create a linear regression model\n",
    "model3 = LinearRegression()\n",
    "\n",
    "# Train the model on the training data\n",
    "model3.fit(X_train3, y_train3)\n",
    "\n",
    "# Make predictions on the testing data\n",
    "y_pred3 = model3.predict(X_test3)\n",
    "\n",
    "# Print the coefficients and intercept\n",
    "print('Coefficients:', model3.coef_)\n",
    "print('Intercept:', model3.intercept_)\n",
    "\n",
    "display(Latex(f'${{v_c}} = {10**model3.intercept_} * E_{{52}}^{({round(model3.coef_[0],2)})} * \\epsilon_B^{({round(model3.coef_[1],2)})} * n_1^{({round(model3.coef_[2],2)})} * D_{{28}}^{({round(model3.coef_[3],2)})} $'))"
   ]
  },
  {
   "cell_type": "markdown",
   "metadata": {},
   "source": [
    "----------------------------------------------------------------------------------------------------------------------------------------------------------------------"
   ]
  },
  {
   "cell_type": "markdown",
   "metadata": {},
   "source": [
    "Generating datasets for $v_c$, $v_m$ and $F_{v,max}$ in early radiative phase"
   ]
  },
  {
   "cell_type": "code",
   "execution_count": 7,
   "metadata": {},
   "outputs": [],
   "source": [
    "v_c_rad_list = []\n",
    "v_m_rad_list = []\n",
    "Fv_max_rad_list = []\n",
    "a_rad = 1.3 * (10**13)\n",
    "b_rad = 1.2 * (10**14)\n",
    "c_rad = 4.5 * (10**3)\n",
    "lorentz_factor = []\n",
    "k = 1\n",
    "for i in range(10000):\n",
    "    lorentz_factor.append(random.uniform(100,1000))\n",
    "    val = (a_rad) * ((epsilon_B_list[i])**(-1.5)) * ((E_52_list[i])**(-4/7)) * ((n_1_list[i])**(-13/14)) * ((t_d_list[i])**(-2/7)) * (lorentz_factor[i]**(4/7))\n",
    "    v_c_rad_list.append(val)\n",
    "    val = (b_rad) * ((epsilon_B_list[i])**(0.5)) * ((epsilon_E_list[i])**(2)) * ((E_52_list[i])**(4/7)) * ((n_1_list[i])**(-1/14)) * ((t_d_list[i])**(-12/7)) * (lorentz_factor[i]**(-4/7))\n",
    "    v_m_rad_list.append(val)\n",
    "    val = (a_rad) * ((epsilon_B_list[i])**(0.5)) * ((E_52_list[i])**(8/7)) * ((n_1_list[i])**(5/14)) * (D_28_list[i]**(-2)) * ((t_d_list[i])**(-3/7)) * (lorentz_factor[i]**(-8/7))\n",
    "    Fv_max_rad_list.append(val)\n",
    "\n",
    "for i in range(5000):\n",
    "    v_c_rad_list[round(random.uniform(0,10000-1))]+= np.random.normal(0, noise_factor_v_c)\n",
    "    v_m_rad_list[round(random.uniform(0,10000-1))]+=np.random.normal(0, noise_factor_v_m)\n",
    "    Fv_max_rad_list[round(random.uniform(0,10000-1))]+=np.random.normal(0, noise_factor_Fv_max)\n"
   ]
  },
  {
   "cell_type": "markdown",
   "metadata": {},
   "source": [
    "Generate CSV files for above datasets (radiative)"
   ]
  },
  {
   "cell_type": "code",
   "execution_count": 8,
   "metadata": {},
   "outputs": [],
   "source": [
    "with open('radiative_dataset.csv', 'w', newline='') as file:\n",
    "    writer = csv.writer(file)\n",
    "    list1 = [['v_c','v_m','F_vmax','epsilon_B','epsilon_E','E_52','t_d','n_1','D_28','lorentz_factor']]\n",
    "    for i in range(10000):\n",
    "        temp_list=[]\n",
    "        temp_list.append(v_c_rad_list[i])\n",
    "        temp_list.append(v_m_rad_list[i])\n",
    "        temp_list.append(Fv_max_rad_list[i])\n",
    "        temp_list.append(epsilon_B_list[i])\n",
    "        temp_list.append(epsilon_E_list[i])\n",
    "        temp_list.append(E_52_list[i])\n",
    "        temp_list.append(t_d_list[i])\n",
    "        temp_list.append(n_1_list[i])\n",
    "        temp_list.append(D_28_list[i])\n",
    "        temp_list.append(lorentz_factor[i])\n",
    "        list1.append(temp_list)\n",
    "    writer.writerows(list1)\n",
    "\n"
   ]
  },
  {
   "cell_type": "code",
   "execution_count": 9,
   "metadata": {},
   "outputs": [],
   "source": [
    "log_v_c_rad_list=[]\n",
    "log_v_m_rad_list=[]\n",
    "log_Fv_max_rad_list=[]\n",
    "log_lorentz_factor=[]\n",
    "for i in range(10000):\n",
    "    log_lorentz_factor.append(math.log(lorentz_factor[i],10))\n",
    "    log_v_c_rad_list.append(math.log(abs(v_c_rad_list[i]),10))\n",
    "    log_v_m_rad_list.append(math.log(abs(v_m_rad_list[i]),10))\n",
    "    log_Fv_max_rad_list.append(math.log(Fv_max_rad_list[i],10))"
   ]
  },
  {
   "cell_type": "code",
   "execution_count": 10,
   "metadata": {},
   "outputs": [
    {
     "name": "stdout",
     "output_type": "stream",
     "text": [
      "Coefficients: [-0.57142857 -1.5        -0.92857143 -0.28571429  0.57142857]\n",
      "Intercept: 13.113943352306821\n"
     ]
    }
   ],
   "source": [
    "# Combine the input features into a single array\n",
    "X = np.column_stack((log_E_52_list, log_epsilon_B_list, log_n_1_list, log_t_d_list,log_lorentz_factor))\n",
    "\n",
    "# Convert log_v_c_list to a NumPy array\n",
    "y = np.array(log_v_c_rad_list)\n",
    "\n",
    "# Split the data into training and testing sets\n",
    "X_train, X_test, y_train, y_test = train_test_split(X, y, test_size=0.2, random_state=42)\n",
    "\n",
    "# Create a linear regression model\n",
    "model = LinearRegression()\n",
    "\n",
    "# Train the model on the training data\n",
    "model.fit(X_train, y_train)\n",
    "\n",
    "# Make predictions on the testing data\n",
    "y_pred = model.predict(X_test)\n",
    "\n",
    "# Print the coefficients and intercept\n",
    "print('Coefficients:', model.coef_)\n",
    "print('Intercept:', model.intercept_)"
   ]
  }
 ],
 "metadata": {
  "kernelspec": {
   "display_name": "Python 3",
   "language": "python",
   "name": "python3"
  },
  "language_info": {
   "codemirror_mode": {
    "name": "ipython",
    "version": 3
   },
   "file_extension": ".py",
   "mimetype": "text/x-python",
   "name": "python",
   "nbconvert_exporter": "python",
   "pygments_lexer": "ipython3",
   "version": "3.11.5"
  }
 },
 "nbformat": 4,
 "nbformat_minor": 2
}
